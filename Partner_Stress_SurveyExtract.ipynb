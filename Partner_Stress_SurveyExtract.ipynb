{
 "cells": [
  {
   "cell_type": "markdown",
   "id": "03be2f04",
   "metadata": {},
   "source": [
    "Start by uploading the data & show the first 5 rows to check that everything is uploaded correctly:"
   ]
  },
  {
   "cell_type": "code",
   "execution_count": null,
   "id": "f306ef71",
   "metadata": {},
   "outputs": [],
   "source": [
    "import pandas as pd\n",
    "import numpy as np\n",
    "\n",
    "file_title = input(\"What is the file name? (you have to give the whole file name as an answer (specifying the format it is saved as such as .csv or .xls), e.g., questionnaire.csv)\") \n",
    "\n",
    "if \"csv\" in file_title:\n",
    "    data = pd.read_csv(file_title)\n",
    "if \"xls\" in file_title:\n",
    "    data = pd.read_excel(file_title)\n",
    "\n",
    "\n",
    "df = pd.DataFrame(data)\n",
    "df.head(5)"
   ]
  },
  {
   "cell_type": "markdown",
   "id": "43884348",
   "metadata": {},
   "source": [
    "Extract the relevant columns and rows:"
   ]
  },
  {
   "cell_type": "code",
   "execution_count": null,
   "id": "971c004a",
   "metadata": {},
   "outputs": [],
   "source": [
    "new_df = pd.DataFrame()\n",
    "numerics = ['int16', 'int32', 'int64', 'float16', 'float32', 'float64']\n",
    "new_question = 1\n",
    "new_questions = list()\n",
    "\n",
    "while new_question > 0:\n",
    "    add_question = input(\"Which question would you like to add? \")\n",
    "    new_questions.append(add_question)\n",
    "    select_sub = input(\"Would you like to select only a subset of answers for the question? Type Y for yes and N for no\")\n",
    "    if \"Y\" in select_sub:\n",
    "        selection = 1\n",
    "        select_val_list = list()\n",
    "        while selection > 0:\n",
    "            select_val = input(\"Which value would you like to select?\")\n",
    "            select_val_list.append(select_val)\n",
    "            add_more = input(\"Would you like to select another value? Y or N\")\n",
    "            if \"N\" in add_more:\n",
    "                selection = 0\n",
    "        if df[add_question].dtype in numerics:\n",
    "            for i in range(0, len(select_val_list)):\n",
    "                select_val_list[i] = int(select_val_list[i])\n",
    "        df = df.loc[df[add_question].isin(select_val_list)]            \n",
    "    stop_cont = input(\"Would you like to add another question? Type Y for yes and N for no \")\n",
    "    if \"N\" in stop_cont:\n",
    "        new_question = 0\n",
    "    elif \"n\" in stop_cont:\n",
    "        new_question = 0\n",
    "\n",
    "new_df[new_questions] = df[new_questions]"
   ]
  },
  {
   "cell_type": "markdown",
   "id": "b8ae57e4",
   "metadata": {},
   "source": [
    "Check that your new table is correct & complete:"
   ]
  },
  {
   "cell_type": "code",
   "execution_count": null,
   "id": "f94d4d88",
   "metadata": {},
   "outputs": [],
   "source": [
    "new_df.head(5)"
   ]
  },
  {
   "cell_type": "markdown",
   "id": "032c1b95",
   "metadata": {},
   "source": [
    "Create a new excel file: "
   ]
  },
  {
   "cell_type": "code",
   "execution_count": null,
   "id": "08a3abfe",
   "metadata": {},
   "outputs": [],
   "source": [
    "new_filetitle = input(\"What would you like to name the new file?\")\n",
    "new_df.to_excel(new_filetitle)"
   ]
  }
 ],
 "metadata": {
  "kernelspec": {
   "display_name": "Python 3",
   "language": "python",
   "name": "python3"
  },
  "language_info": {
   "codemirror_mode": {
    "name": "ipython",
    "version": 3
   },
   "file_extension": ".py",
   "mimetype": "text/x-python",
   "name": "python",
   "nbconvert_exporter": "python",
   "pygments_lexer": "ipython3",
   "version": "3.8.8"
  }
 },
 "nbformat": 4,
 "nbformat_minor": 5
}
