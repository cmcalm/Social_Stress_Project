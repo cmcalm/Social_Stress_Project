{
 "cells": [
  {
   "cell_type": "markdown",
   "id": "96d1af4e",
   "metadata": {},
   "source": [
    "This first part reads the 2 files, if you have them, and assigns them to a dataframe"
   ]
  },
  {
   "cell_type": "code",
   "execution_count": null,
   "id": "41c6f5d3",
   "metadata": {},
   "outputs": [],
   "source": [
    "import pandas as pd\n",
    "import numpy as np\n",
    "\n",
    "file_title1 = input(\"What is the file name? (you have to give the whole file name as an answer (specifying the format it is saved as such as .csv or .xls), e.g., questionnaire.csv)\") \n",
    "file_title2 = input(\"What is the file name? (you have to give the whole file name as an answer (specifying the format it is saved as such as .csv or .xls), e.g., questionnaire.csv)\") \n",
    "\n",
    "if \"csv\" in file_title1:\n",
    "    data1 = pd.read_csv(file_title1)\n",
    "if \"xls\" in file_title1:\n",
    "    data1 = pd.read_excel(file_title1)\n",
    "if \"csv\" in file_title2:\n",
    "    data2 = pd.read_csv(file_title2)\n",
    "if \"xls\" in file_title2:\n",
    "    data2 = pd.read_excel(file_title2)\n",
    "\n",
    "\n",
    "df1 = pd.DataFrame(data1)\n",
    "df2 = pd.DataFrame(data2)\n",
    "\n",
    "df1.head()"
   ]
  },
  {
   "cell_type": "markdown",
   "id": "8a7e01b4",
   "metadata": {},
   "source": [
    "The second part is the \"data simulation\" - meaning it is just randomly creating 2 very short dataframes to test whether the script works, because we do not have the real data yet."
   ]
  },
  {
   "cell_type": "code",
   "execution_count": 1,
   "id": "d6cf174a",
   "metadata": {},
   "outputs": [],
   "source": [
    "#Simulation: \n",
    "import pandas as pd\n",
    "import numpy as np\n",
    "\n",
    "data1 = {\"ID\": [\"ppt1\", \"ppt2\", \"ppt3\", \"ppt4\"], 'col2': [\"dec1\", \"apr2\", \"jun20\", \"jul3\"]}\n",
    "data2 = {\"ID\": [\"ppt5\", \"ppt6\", \"ppt7\", \"ppt8\"], 'col2': [\"apr2\", \"may1\", \"jul3\", \"jul5\"]}\n",
    "\n",
    "df1 = pd.DataFrame(data = data1)\n",
    "df2 = pd.DataFrame(data = data2)"
   ]
  },
  {
   "cell_type": "markdown",
   "id": "aeed1394",
   "metadata": {},
   "source": [
    "The next part is simply looping through the \"col2\" column, which corresponds to the date column in the actual data (once we have it), of both dataframes. For each date in that column it checks whether that date can also be found in the other dataframe and, if so, it will put that date into a list. Finally, a new dataframe will be created that contains the rows of the 2 original dataframe of the participants which have indicated matching availabilities. The dataframe will be sorted by the available dates so that you find the 2 matching participants right below each other in the new dataframe."
   ]
  },
  {
   "cell_type": "code",
   "execution_count": 2,
   "id": "75594a46",
   "metadata": {},
   "outputs": [
    {
     "data": {
      "text/html": [
       "<div>\n",
       "<style scoped>\n",
       "    .dataframe tbody tr th:only-of-type {\n",
       "        vertical-align: middle;\n",
       "    }\n",
       "\n",
       "    .dataframe tbody tr th {\n",
       "        vertical-align: top;\n",
       "    }\n",
       "\n",
       "    .dataframe thead th {\n",
       "        text-align: right;\n",
       "    }\n",
       "</style>\n",
       "<table border=\"1\" class=\"dataframe\">\n",
       "  <thead>\n",
       "    <tr style=\"text-align: right;\">\n",
       "      <th></th>\n",
       "      <th>ID</th>\n",
       "      <th>col2</th>\n",
       "    </tr>\n",
       "  </thead>\n",
       "  <tbody>\n",
       "    <tr>\n",
       "      <th>0</th>\n",
       "      <td>ppt5</td>\n",
       "      <td>apr2</td>\n",
       "    </tr>\n",
       "    <tr>\n",
       "      <th>1</th>\n",
       "      <td>ppt2</td>\n",
       "      <td>apr2</td>\n",
       "    </tr>\n",
       "    <tr>\n",
       "      <th>2</th>\n",
       "      <td>ppt7</td>\n",
       "      <td>jul3</td>\n",
       "    </tr>\n",
       "    <tr>\n",
       "      <th>3</th>\n",
       "      <td>ppt4</td>\n",
       "      <td>jul3</td>\n",
       "    </tr>\n",
       "  </tbody>\n",
       "</table>\n",
       "</div>"
      ],
      "text/plain": [
       "     ID  col2\n",
       "0  ppt5  apr2\n",
       "1  ppt2  apr2\n",
       "2  ppt7  jul3\n",
       "3  ppt4  jul3"
      ]
     },
     "execution_count": 2,
     "metadata": {},
     "output_type": "execute_result"
    }
   ],
   "source": [
    "#new_header = df1.columns.values.tolist()\n",
    "df_new = pd.DataFrame()\n",
    "#df_new.columns = new_header\n",
    "new_rows = list() \n",
    "\n",
    "for i in df1['col2'].tolist():\n",
    "    if i in df2['col2'].tolist():\n",
    "        new_rows.append(i)\n",
    "\n",
    "df_new = df_new.append(df2.loc[df2[\"col2\"].isin(new_rows)])\n",
    "df_new = df_new.append(df1.loc[df1[\"col2\"].isin(new_rows)])\n",
    "df_new = df_new.sort_values(by=['col2'])\n",
    "        \n",
    "df_new.head()"
   ]
  },
  {
   "cell_type": "markdown",
   "id": "b894eaa0",
   "metadata": {},
   "source": [
    "Finally, you put the new dataframe into a new excel table:"
   ]
  },
  {
   "cell_type": "code",
   "execution_count": null,
   "id": "1b97ecd4",
   "metadata": {},
   "outputs": [],
   "source": [
    "df_new.to_excel(\"Strangers_paired.xlsx\")"
   ]
  }
 ],
 "metadata": {
  "kernelspec": {
   "display_name": "Python 3",
   "language": "python",
   "name": "python3"
  },
  "language_info": {
   "codemirror_mode": {
    "name": "ipython",
    "version": 3
   },
   "file_extension": ".py",
   "mimetype": "text/x-python",
   "name": "python",
   "nbconvert_exporter": "python",
   "pygments_lexer": "ipython3",
   "version": "3.8.8"
  }
 },
 "nbformat": 4,
 "nbformat_minor": 5
}
